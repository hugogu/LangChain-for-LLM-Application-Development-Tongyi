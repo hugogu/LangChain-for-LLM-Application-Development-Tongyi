{
 "cells": [
  {
   "cell_type": "markdown",
   "id": "cb3c3632",
   "metadata": {},
   "source": [
    "# LangChain: Q&A over Documents\n",
    "An example might be a tool that would allow you to query a product catalog for items of interest."
   ]
  },
  {
   "cell_type": "code",
   "id": "add77317",
   "metadata": {},
   "source": [
    "#pip install --upgrade langchain"
   ],
   "outputs": [],
   "execution_count": null
  },
  {
   "cell_type": "code",
   "id": "d142da8a",
   "metadata": {},
   "source": [
    "import os\n",
    "\n",
    "from dotenv import load_dotenv, find_dotenv\n",
    "_ = load_dotenv(find_dotenv()) # read local .env file"
   ],
   "outputs": [],
   "execution_count": null
  },
  {
   "cell_type": "code",
   "id": "c0df98d3",
   "metadata": {},
   "source": [
    "from langchain.chains import RetrievalQA\n",
    "from langchain.chat_models import ChatOpenAI\n",
    "from langchain.document_loaders import CSVLoader\n",
    "from langchain.vectorstores import DocArrayInMemorySearch\n",
    "from IPython.display import display, Markdown"
   ],
   "outputs": [],
   "execution_count": null
  },
  {
   "cell_type": "code",
   "id": "9a97b260",
   "metadata": {},
   "source": [
    "file = 'OutdoorClothingCatalog_1000.csv'\n",
    "loader = CSVLoader(file_path=file)"
   ],
   "outputs": [],
   "execution_count": null
  },
  {
   "metadata": {},
   "cell_type": "code",
   "source": [
    "#!pip install docarray\n",
    "#!pip install dashscope"
   ],
   "id": "c53f8194367568a5",
   "outputs": [],
   "execution_count": null
  },
  {
   "cell_type": "code",
   "id": "ae221086",
   "metadata": {},
   "source": [
    "from langchain.indexes import VectorstoreIndexCreator\n",
    "from langchain_community.embeddings import DashScopeEmbeddings\n",
    "from langchain_community.llms import Tongyi"
   ],
   "outputs": [],
   "execution_count": null
  },
  {
   "cell_type": "code",
   "id": "07362cb9",
   "metadata": {},
   "source": [
    "embedding = DashScopeEmbeddings(\n",
    "    dashscope_api_key=os.environ.get(\"OPENAI_API_KEY\"),\n",
    "    model=\"text-embedding-v1\"\n",
    ")\n",
    "\n",
    "index = VectorstoreIndexCreator(\n",
    "    vectorstore_cls=DocArrayInMemorySearch,\n",
    "    embedding=embedding,\n",
    ").from_loaders([loader])"
   ],
   "outputs": [],
   "execution_count": null
  },
  {
   "cell_type": "code",
   "id": "5cd740a6",
   "metadata": {},
   "source": [
    "query =\"Please list all your shirts with sun protection \\\n",
    "in a table in markdown and summarize each one.\""
   ],
   "outputs": [],
   "execution_count": null
  },
  {
   "metadata": {},
   "cell_type": "code",
   "source": [
    "llm = Tongyi(temperature=0,\n",
    "             dashscope_api_key=os.environ.get(\"OPENAI_API_KEY\"))"
   ],
   "id": "c0bba27f5487b062",
   "outputs": [],
   "execution_count": null
  },
  {
   "cell_type": "code",
   "id": "e237aa1a",
   "metadata": {},
   "source": "response = index.query(query, llm=llm)",
   "outputs": [],
   "execution_count": null
  },
  {
   "cell_type": "code",
   "id": "1920e381",
   "metadata": {},
   "source": [
    "display(Markdown(response))"
   ],
   "outputs": [],
   "execution_count": null
  },
  {
   "cell_type": "code",
   "id": "29646b6b",
   "metadata": {},
   "source": [
    "loader = CSVLoader(file_path=file)"
   ],
   "outputs": [],
   "execution_count": null
  },
  {
   "cell_type": "code",
   "id": "6b952a9e",
   "metadata": {},
   "source": [
    "docs = loader.load()"
   ],
   "outputs": [],
   "execution_count": null
  },
  {
   "cell_type": "code",
   "id": "1d09a29e",
   "metadata": {},
   "source": [
    "docs[0]"
   ],
   "outputs": [],
   "execution_count": null
  },
  {
   "metadata": {},
   "cell_type": "code",
   "source": [
    "embedding = DashScopeEmbeddings(\n",
    "    dashscope_api_key=os.environ.get(\"OPENAI_API_KEY\"),\n",
    "    model=\"text-embedding-v1\"\n",
    ")"
   ],
   "id": "52f4824b",
   "outputs": [],
   "execution_count": null
  },
  {
   "cell_type": "code",
   "id": "ff61ce20",
   "metadata": {},
   "source": "embed = embedding.embed_query(\"Hi my name is Harrison\")",
   "outputs": [],
   "execution_count": null
  },
  {
   "cell_type": "code",
   "id": "43ff167c",
   "metadata": {},
   "source": [
    "print(len(embed))"
   ],
   "outputs": [],
   "execution_count": null
  },
  {
   "cell_type": "code",
   "id": "60b58eeb",
   "metadata": {},
   "source": [
    "print(embed[:5])"
   ],
   "outputs": [],
   "execution_count": null
  },
  {
   "cell_type": "code",
   "id": "cfe6aad2",
   "metadata": {},
   "source": [
    "db = DocArrayInMemorySearch.from_documents(\n",
    "    docs, \n",
    "    embedding\n",
    ")"
   ],
   "outputs": [],
   "execution_count": null
  },
  {
   "cell_type": "code",
   "id": "4b625f97",
   "metadata": {},
   "source": [
    "query = \"Please suggest a shirt with sunblocking\""
   ],
   "outputs": [],
   "execution_count": null
  },
  {
   "cell_type": "code",
   "id": "16ce5392",
   "metadata": {},
   "source": [
    "docs = db.similarity_search(query)"
   ],
   "outputs": [],
   "execution_count": null
  },
  {
   "cell_type": "code",
   "id": "fd97048d",
   "metadata": {},
   "source": "len(docs)\n",
   "outputs": [],
   "execution_count": null
  },
  {
   "cell_type": "code",
   "id": "1a2c05aa",
   "metadata": {},
   "source": "docs[0]\n",
   "outputs": [],
   "execution_count": null
  },
  {
   "cell_type": "code",
   "id": "1a9d02d3",
   "metadata": {},
   "source": [
    "retriever = db.as_retriever()"
   ],
   "outputs": [],
   "execution_count": null
  },
  {
   "cell_type": "code",
   "id": "de623646",
   "metadata": {},
   "source": [
    "llm = ChatOpenAI(temperature=0.0,\n",
    "                 model=\"qwen-plus\",\n",
    "                 api_key=os.environ.get(\"OPENAI_API_KEY\"),\n",
    "                 base_url=os.environ.get(\"OPENAI_API_URL\"))"
   ],
   "outputs": [],
   "execution_count": null
  },
  {
   "cell_type": "code",
   "id": "a7241259",
   "metadata": {},
   "source": [
    "qdocs = \"\".join([docs[i].page_content for i in range(len(docs))])"
   ],
   "outputs": [],
   "execution_count": null
  },
  {
   "cell_type": "code",
   "id": "0930226f",
   "metadata": {},
   "source": [
    "response = llm.call_as_llm(f\"{qdocs} Question: Please list all your \\\n",
    "shirts with sun protection in a table in markdown and summarize each one.\") "
   ],
   "outputs": [],
   "execution_count": null
  },
  {
   "cell_type": "code",
   "id": "593aedfc",
   "metadata": {},
   "source": [
    "display(Markdown(response))"
   ],
   "outputs": [],
   "execution_count": null
  },
  {
   "cell_type": "code",
   "id": "b65ad35a",
   "metadata": {},
   "source": [
    "qa_stuff = RetrievalQA.from_chain_type(\n",
    "    llm=llm, \n",
    "    chain_type=\"stuff\", \n",
    "    retriever=retriever, \n",
    "    verbose=True\n",
    ")"
   ],
   "outputs": [],
   "execution_count": null
  },
  {
   "cell_type": "code",
   "id": "c2919c2e",
   "metadata": {},
   "source": [
    "query =  \"Please list all your shirts with sun protection in a table \\\n",
    "in markdown and summarize each one.\""
   ],
   "outputs": [],
   "execution_count": null
  },
  {
   "cell_type": "code",
   "id": "430f90b7",
   "metadata": {},
   "source": "response = qa_stuff.run(query)\n",
   "outputs": [],
   "execution_count": null
  },
  {
   "cell_type": "code",
   "id": "c5cfcceb",
   "metadata": {},
   "source": [
    "display(Markdown(response))"
   ],
   "outputs": [],
   "execution_count": null
  },
  {
   "cell_type": "code",
   "id": "779d94c3",
   "metadata": {},
   "source": [
    "response = index.query(query, llm=llm)"
   ],
   "outputs": [],
   "execution_count": null
  },
  {
   "metadata": {},
   "cell_type": "code",
   "source": "display(Markdown(response))",
   "id": "6275a9117462024a",
   "outputs": [],
   "execution_count": null
  },
  {
   "cell_type": "code",
   "id": "70636236",
   "metadata": {},
   "source": [
    "index = VectorstoreIndexCreator(\n",
    "    vectorstore_cls=DocArrayInMemorySearch,\n",
    "    embedding=embedding,\n",
    ").from_loaders([loader])"
   ],
   "outputs": [],
   "execution_count": null
  }
 ],
 "metadata": {
  "kernelspec": {
   "display_name": "Python 3 (ipykernel)",
   "language": "python",
   "name": "python3"
  },
  "language_info": {
   "codemirror_mode": {
    "name": "ipython",
    "version": 3
   },
   "file_extension": ".py",
   "mimetype": "text/x-python",
   "name": "python",
   "nbconvert_exporter": "python",
   "pygments_lexer": "ipython3",
   "version": "3.10.9"
  }
 },
 "nbformat": 4,
 "nbformat_minor": 5
}
